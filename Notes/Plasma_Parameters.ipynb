{
 "cells": [
  {
   "cell_type": "markdown",
   "metadata": {},
   "source": [
    "### Definitions\n",
    "\n",
    "$n$ - plasma density, no subscript if quasi-neutral\n",
    "\n",
    "$T$ - Thermodynamic temperature of plasma"
   ]
  },
  {
   "cell_type": "markdown",
   "metadata": {},
   "source": [
    "### Interaction Parameter \n",
    "\n",
    "* Ratio of coulomb energy to thermal energy in a plasma. \n",
    "\n",
    "* Small parameter for low density and high temperature.\n",
    "\n",
    "* Quantifies importance of collisions\n",
    "\n",
    "$$ \\zeta = \\frac{e^2n^{1/3}}{k_BT}$$"
   ]
  },
  {
   "cell_type": "markdown",
   "metadata": {},
   "source": [
    "### Debye Length\n",
    "\n",
    "* The characteristic length scale for pair correlations in fully-ionized equilibrium plasma\n",
    "\n",
    "$$\n",
    "\\lambda_D = \\bigg(\\frac{k_BT}{4\\pi n e^2}\\bigg)^\\frac{1}{2}\n",
    "$$"
   ]
  },
  {
   "cell_type": "markdown",
   "metadata": {},
   "source": [
    "### Plasma Parameter\n",
    "\n",
    "* The reciprocal ($\\zeta_p$,Somov) of the number of particles within a debye sphere ($\\Lambda$, Nicholson)\n",
    "\n",
    "$$\n",
    "\\zeta_p = \\Lambda^{-1} = \\frac{1}{n \\lambda_D^3}\n",
    "$$"
   ]
  },
  {
   "cell_type": "markdown",
   "metadata": {},
   "source": [
    "### Plasma Frequency\n",
    "\n",
    "* Natural frequency of a plasma. E.g. for quasineutral slab of plasma with fixed ions ($m_i \\rightarrow \\infty$), the frequency of SHM if the electron slab is perturbed a small distance.\n",
    "\n",
    "$$\n",
    "\\omega_{p,k} = \\bigg(\\frac{4\\pi n e_k^2}{m_k}\\bigg)\n",
    "$$\n",
    "\n",
    "for plasma species, $k$."
   ]
  },
  {
   "cell_type": "markdown",
   "metadata": {},
   "source": [
    "### Thermal Speed\n",
    "\n",
    "* Usual thermodynamic definition of a speed from Temperature\n",
    "\n",
    "$$\n",
    "v_k = \\bigg(\\frac{T_k}{m_k} \\bigg)^\\frac{1}{2}\n",
    "$$"
   ]
  },
  {
   "cell_type": "code",
   "execution_count": null,
   "metadata": {},
   "outputs": [],
   "source": []
  }
 ],
 "metadata": {
  "kernelspec": {
   "display_name": "Python [conda env:anaconda3]",
   "language": "python",
   "name": "conda-env-anaconda3-py"
  },
  "language_info": {
   "codemirror_mode": {
    "name": "ipython",
    "version": 3
   },
   "file_extension": ".py",
   "mimetype": "text/x-python",
   "name": "python",
   "nbconvert_exporter": "python",
   "pygments_lexer": "ipython3",
   "version": "3.6.8"
  }
 },
 "nbformat": 4,
 "nbformat_minor": 2
}
