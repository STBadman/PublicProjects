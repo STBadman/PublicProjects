{
 "cells": [
  {
   "cell_type": "markdown",
   "metadata": {},
   "source": [
    "### Definitions\n",
    "\n",
    "$n$ - plasma density, no subscript if quasi-neutral\n",
    "\n",
    "$T$ - Thermodynamic temperature of plasma"
   ]
  },
  {
   "cell_type": "markdown",
   "metadata": {},
   "source": [
    "### Interaction Parameter \n",
    "\n",
    "* Ratio of coulomb energy to thermal energy in a plasma. \n",
    "\n",
    "* Small parameter for low density and high temperature.\n",
    "\n",
    "* Quantifies importance of collisions\n",
    "\n",
    "$$ \\zeta = \\frac{e^2n^{1/3}}{k_BT}$$"
   ]
  },
  {
   "cell_type": "markdown",
   "metadata": {},
   "source": [
    "### Debye Length\n",
    "\n",
    "* The characteristic length scale for pair correlations in fully-ionized equilibrium plasma\n",
    "\n",
    "$$\n",
    "\\lambda_D = \\bigg(\\frac{k_BT}{4\\pi n e^2}\\bigg)^\\frac{1}{2}\n",
    "$$"
   ]
  },
  {
   "cell_type": "markdown",
   "metadata": {},
   "source": [
    "### Plasma Parameter\n",
    "\n",
    "* The reciprocal ($\\zeta_p$,Somov) of the number of particles within a debye sphere ($\\Lambda$, Nicholson)\n",
    "\n",
    "$$\n",
    "\\zeta_p = \\Lambda^{-1} = \\frac{1}{n \\lambda_D^3}\n",
    "$$\n",
    "\n",
    "Nicholson : if $\\Lambda >> 1 $, fluid is a \"good plasma\" - thermal energy much larger than coulomb energy."
   ]
  },
  {
   "cell_type": "markdown",
   "metadata": {},
   "source": [
    "### Plasma Frequency\n",
    "\n",
    "Natural frequency of a plasma. E.g. for quasineutral slab of plasma with fixed ions ($m_i \\rightarrow \\infty$), the frequency of SHM if the electron slab is perturbed a small distance.\n",
    "\n",
    "$$\n",
    "\\omega_{p,k} = \\bigg(\\frac{4\\pi n e_k^2}{m_k}\\bigg)^\\frac{1}{2}\n",
    "$$\n",
    "\n",
    "for plasma species, $k$. This frequency acts as a cutoff for the propagation of electromagnetic waves: EM waves with frequencies below this frequency damp exponentially and excite electrostatic modes."
   ]
  },
  {
   "cell_type": "markdown",
   "metadata": {},
   "source": [
    "### Thermal Speed\n",
    "\n",
    "* Usual thermodynamic definition of a speed from Temperature\n",
    "\n",
    "$$\n",
    "v_k = \\bigg(\\frac{T_k}{m_k} \\bigg)^\\frac{1}{2}\n",
    "$$"
   ]
  },
  {
   "cell_type": "markdown",
   "metadata": {},
   "source": [
    "### Classical Radius of Electron\n",
    "\n",
    "The radius at which the electron's coulomb repulsion is equal to it's rest mass energy.\n",
    "\n",
    "$$ \n",
    "r_e = \\frac{e^2}{mc^2}\n",
    "$$"
   ]
  },
  {
   "cell_type": "markdown",
   "metadata": {},
   "source": [
    "### Collision Frequency\n",
    "\n",
    "Frequency of large angle scattering of an electron due to many small collisions with stationary ions\n",
    "\n",
    "$$\n",
    "\\nu_{ei} = \\frac{8\\pi n_e e^4}{m_e^3 v_0^3}\\ln \\Lambda\n",
    "$$\n",
    "\n",
    "For an electron of speed $v_0$ travelling through a quasineutral plasma of electron density $n_e$ and temperature $T$. \n",
    "\n",
    "Note that $\\frac{\\nu_{ei}}{\\omega_{pe}} \\sim \\Lambda^{-1}$ which implies the above definition of a \"good plasma\" is one in which collective effects dominate over single particle effects\n",
    "\n"
   ]
  },
  {
   "cell_type": "markdown",
   "metadata": {},
   "source": [
    "### Cyclotron Frequency\n",
    "\n",
    "The frequency of a charged particle $q_i$ of total energy $E=\\gamma m_i c^2$, gyrating around a magnetic field line of strength $B_0$ :\n",
    "\n",
    "$$\n",
    "\\omega_{ci} =  \\frac{|q_i|B}{\\gamma m_i}\n",
    "$$\n",
    "\n",
    "This may be vectorized as \n",
    "\n",
    "\n",
    "$$\n",
    "\\boldsymbol{\\omega_{ci}} =  \\frac{q_i\\boldsymbol{B}}{\\gamma m_i}\n",
    "$$\n",
    "\n",
    "where we see the gyromotion is parallel to the magnetic field, while the charge determines the helicity.\n"
   ]
  },
  {
   "cell_type": "markdown",
   "metadata": {},
   "source": [
    "### Gyro Radius\n",
    "\n",
    "The radius of gyromotion is the radius of the circle around which a charged particle $q_i,m_i$ of energy $E=\\gamma m c^2$ travels when it gyrates around a magnetic field of strength $B$ with a velocity component in the plane of gyro motion $v_\\perp$. It is related to the gyrofrequency as the $r_{ci}\\omega_{ci} = v_\\perp $\n",
    "\n",
    "$$\n",
    "r_{ci} = \\frac{\\gamma m_i v_\\perp}{|q_i|B}\n",
    "$$"
   ]
  },
  {
   "cell_type": "markdown",
   "metadata": {},
   "source": [
    "### Upper Hybrid Frequency\n",
    "\n",
    "Long wavelength limit of longitudinal electrostatic waves propagating perpendicular to the local magnetic field.\n",
    "\n",
    "$$\n",
    "\\omega_{uh}^2 = \\omega_{pe}^2 + \\omega_{ce}^2  \n",
    "$$\n",
    "\n",
    "It is a combination of the plasma frequency (measure of electron density, $n_e$) and the cyclotron frequency (measure of local magnetic field strength, $B_0$, and electron total energy $\\gamma = E/m_ec^2$)\n",
    "\n"
   ]
  }
 ],
 "metadata": {
  "kernelspec": {
   "display_name": "Python 3",
   "language": "python",
   "name": "python3"
  },
  "language_info": {
   "codemirror_mode": {
    "name": "ipython",
    "version": 3
   },
   "file_extension": ".py",
   "mimetype": "text/x-python",
   "name": "python",
   "nbconvert_exporter": "python",
   "pygments_lexer": "ipython3",
   "version": "3.7.1"
  }
 },
 "nbformat": 4,
 "nbformat_minor": 2
}
