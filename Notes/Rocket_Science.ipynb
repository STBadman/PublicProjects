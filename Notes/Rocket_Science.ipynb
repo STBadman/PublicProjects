{
 "cells": [
  {
   "cell_type": "markdown",
   "metadata": {},
   "source": [
    "### Notes on the various typical figures of merit for spacecraft thrusters\n",
    "\n",
    "Samuel Badman 02/19/19 samuel_badman@berkeley.edu"
   ]
  },
  {
   "cell_type": "markdown",
   "metadata": {},
   "source": [
    "### Intrinsic Properties\n",
    "\n",
    "\n",
    "#### Mass Flow Rate \\[kg/s\\]\n",
    "\n",
    "The rate at which the thruster expels mass from the spacecraft. This is also intrinsic to the thruster. Denote as $\\dot{m}$\n",
    "\n",
    "#### Wet Mass / Dry Mass \\[kg\\]\n",
    "\n",
    "For dynamical calcuations, these quantites include the total mass of the spacecraft. The wet mass is the total mass of the spacecraft when the thruster is fully fueled. The dry mass is the mass of the spacecraft with 0 propellent. Denote as $M_0$ and $M_f$.\n",
    "\n",
    "#### Exhaust Velocity \\[m/s\\]\n",
    "\n",
    "The velocity with which propellent is expelled by the thruster in the reference frame moving with the thruster. Denote as $v_e$.\n",
    "\n",
    "#### Specific Impulse \\[s\\]\n",
    "\n",
    "Another intrinsic property of the thruster given in units of seconds. It is simply a rescaling of the exhaust velocity via standard gravity $g_0=9.81$ms$^{-2}$ such that :\n",
    "\n",
    "$$\n",
    "I_{SP} = v_e/g_0\n",
    "$$\n",
    "\n",
    "#### Thrust \\[N\\]\n",
    "\n",
    "The instantaenous amount of force applied to the spacecraft center of mass by a thruster firing. It is related to the mass flow rate ($\\dot{m}$) and the specific impulse as :\n",
    "\n",
    "$$\n",
    "F = g_0 I_{sp} \\dot{m} = v_e \\dot{m}\n",
    "$$\n"
   ]
  },
  {
   "cell_type": "markdown",
   "metadata": {},
   "source": [
    "### Derived Quantities\n",
    "\n",
    "#### Delta v\n",
    "\n",
    "The total change in velocity in the direction of a burn in a fixed direction as a function of time is found as follows :\n",
    "\n",
    "The inertial acceleration of a rocket of mass $m(t)$ with exhaust velocity $v_e$ and mass flow rate $\\dot{m}$ is :\n",
    "\n",
    "$$\n",
    "m\\frac{dv}{dt} = -v_e \\dot{m}\n",
    "$$\n",
    "\n",
    "This is the [Tsiolkovsky Rocket Equation](https://en.wikipedia.org/wiki/Tsiolkovsky_rocket_equation)\n",
    "\n",
    "Which has the solution for fixed $v_e$ for the change in velocity as :\n",
    "\n",
    "$$\n",
    "\\Delta v(m) = -v_e \\ln \\frac{m(t)}{m_0}\n",
    "$$\n",
    "\n",
    "Assuming a constant mass flow rate, we have $m(t) = m_0 - \\dot{m}t$, so as a function of time :\n",
    "\n",
    "$$\n",
    "\\Delta v(t) = -v_e \\ln (1 - \\frac{\\dot{m}}{m_0}t)\n",
    "$$\n",
    "\n",
    "We can also get the total delta v budget for a given thruster by letting $m(t) \\to m_f$, the spacecraft dry mass.\n",
    "\n",
    "$$\n",
    "\\Delta v_{tot} = -v_e \\ln \\frac{m_f}{m_0}\n",
    "$$\n"
   ]
  },
  {
   "cell_type": "markdown",
   "metadata": {},
   "source": [
    "#### Burn Time\n",
    "\n",
    "We can invert the equation for $\\Delta v (t)$ to get the time required for a given speed change $\\Delta t$ :\n",
    "\n",
    "$$\n",
    "t_{burn} = \\frac{m_0}{\\dot{m}}(1-\\exp{\\bigg(-\\frac{\\Delta v}{v_e}}\\bigg))\n",
    "$$\n",
    "\n",
    "Which can also be expressed in terms of the thrust as :\n",
    "\n",
    "$$\n",
    "t_{burn} = \\frac{m_0v_e}{F}(1-\\exp{\\bigg(-\\frac{\\Delta v}{v_e}}\\bigg))\n",
    "$$\n",
    "\n",
    "We see a useful linear approximation that if $\\Delta v \\ll v_e$ then :\n",
    "\n",
    "$$\n",
    "t_{burn} = \\frac{m_0\\Delta v}{F}\n",
    "$$\n",
    "\n",
    "The maximum time that the thruster can operate for is also useful and is straightforward to find as :\n",
    "\n",
    "$$\n",
    "m(t=t_{max}) = m_0 - \\dot{m}t_{max} = m_f \\\\\n",
    "\\implies t_{max} = \\frac{m_0 - m_f}{\\dot{m}} = \\frac{m_p}{\\dot{m}} $$\n",
    "where we define the total mass of propellent, $m_p$."
   ]
  },
  {
   "cell_type": "markdown",
   "metadata": {},
   "source": [
    "#### Total Impulse\n",
    "\n",
    "The maximum change in momentum that the thruster can deliver to the spacecraft is found by integrating the thrust over the time that thrust can be applied for. Since the thrust is constant, this is simply a multiplication factor :\n",
    "\n",
    "$$ I_T = Ft_{max} = \\frac{m_pF}{\\dot{m}} = v_e m_p $$\n",
    "\n",
    "To relate this to the total Delta v budget, we have that :\n",
    "\n",
    "$$\n",
    "\\Delta v_{tot} = -v_e \\ln \\frac{m_f}{m_0} = -v_e \\ln (1 - \\frac{m_p}{m_0})\n",
    "$$\n",
    "\n",
    "We see that in the limit where the propellent is a small fraction of the wet mass, then :\n",
    "\n",
    "$$\n",
    "\\Delta v_{tot} \\approx v_e \\frac{m_p}{m_0} = \\frac{I_T}{m_0}\n",
    "$$\n",
    "\n",
    "i.e. in this limit the total delta v budget is approximately the total impulse divided by the spacecraft wet mass. \n",
    "\n",
    "The 2nd order correction gives :\n",
    "\n",
    "$$\n",
    "\\Delta v_{tot} \\approx -v_e (-\\frac{m_p}{m_0} - \\frac{1}{2}\\frac{m_p^2}{m_0^2}) = \\frac{I_T}{m_0}(1 + \\frac{m_p}{2m_0})\n",
    "$$\n",
    "\n",
    "i.e. for a given quoted total impulse, the 1st order approximation of $\\Delta v$ is an _underestimate_ and so the total impulse over the spacecraft wet mass places a conservative lower bound on the spacecraft $\\Delta v$ budget."
   ]
  },
  {
   "cell_type": "markdown",
   "metadata": {},
   "source": [
    "### Example: VACCO Standard MiPS for 6kg cubesat\n",
    "\n",
    "[Spec Sheet](https://www.vacco.com/images/uploads/pdfs/MiPS_standard_0714.pdf) gives :\n",
    "\n",
    "$F = 10$ mN, $I_{SP} = 40$ s, $I_T = 44$ Ns"
   ]
  },
  {
   "cell_type": "code",
   "execution_count": 1,
   "metadata": {},
   "outputs": [],
   "source": [
    "# In SI Units\n",
    "F = 10e-3 #N\n",
    "I_SP = 40 #s\n",
    "I_T = 44 #Ns\n",
    "g_0 = 9.81 #m/s^2"
   ]
  },
  {
   "cell_type": "markdown",
   "metadata": {},
   "source": [
    "We will assume the spacecraft wet mass is $6$kg"
   ]
  },
  {
   "cell_type": "code",
   "execution_count": 2,
   "metadata": {},
   "outputs": [],
   "source": [
    "m_0 = 6.0 #kg"
   ]
  },
  {
   "cell_type": "markdown",
   "metadata": {},
   "source": [
    "We can immediately get the exhaust velocity :"
   ]
  },
  {
   "cell_type": "code",
   "execution_count": 3,
   "metadata": {},
   "outputs": [
    {
     "name": "stdout",
     "output_type": "stream",
     "text": [
      "Exhaust velocity = 392.40000000 m/s\n"
     ]
    }
   ],
   "source": [
    "v_e = I_SP*g_0\n",
    "print(f\"Exhaust velocity = {v_e:0.8f} m/s\")"
   ]
  },
  {
   "cell_type": "markdown",
   "metadata": {},
   "source": [
    "And mass flow rate :"
   ]
  },
  {
   "cell_type": "code",
   "execution_count": 4,
   "metadata": {},
   "outputs": [
    {
     "name": "stdout",
     "output_type": "stream",
     "text": [
      "Mass Flow Rate = 0.00002548 kg/s\n"
     ]
    }
   ],
   "source": [
    "m_dot = F/v_e\n",
    "print(f\"Mass Flow Rate = {m_dot:0.8f} kg/s\")"
   ]
  },
  {
   "cell_type": "markdown",
   "metadata": {},
   "source": [
    "Note we can already see that approximations like $\\Delta v \\ll v_e$ will be strongly valid."
   ]
  },
  {
   "cell_type": "markdown",
   "metadata": {},
   "source": [
    "Of the intrinsic quantities, we haven't directly been given the spacecraft dry mass or equivalently, the propellent mass, but we can back this out of the total impulse :"
   ]
  },
  {
   "cell_type": "code",
   "execution_count": 5,
   "metadata": {},
   "outputs": [
    {
     "name": "stdout",
     "output_type": "stream",
     "text": [
      "Propellent Mass = 0.11213048 kg\n"
     ]
    }
   ],
   "source": [
    "m_p = I_T/v_e \n",
    "print(f\"Propellent Mass = {m_p:0.8f} kg\")"
   ]
  },
  {
   "cell_type": "markdown",
   "metadata": {},
   "source": [
    "We can see that the quantity $m_p/m_0$ is small:"
   ]
  },
  {
   "cell_type": "code",
   "execution_count": 6,
   "metadata": {},
   "outputs": [
    {
     "name": "stdout",
     "output_type": "stream",
     "text": [
      "Propellent mass : wet mass ratio = 0.01869\n"
     ]
    }
   ],
   "source": [
    "print(f'Propellent mass : wet mass ratio = {m_p/m_0:0.5f}')"
   ]
  },
  {
   "cell_type": "markdown",
   "metadata": {},
   "source": [
    "So a crude estimate of the total delta v budget should be accurate, and an underestimate by ~0.9% :"
   ]
  },
  {
   "cell_type": "code",
   "execution_count": 7,
   "metadata": {},
   "outputs": [
    {
     "name": "stdout",
     "output_type": "stream",
     "text": [
      "Delta V Crude Estimate = 7.333 m/s\n"
     ]
    }
   ],
   "source": [
    "delta_v_est = I_T/m_0\n",
    "print(f'Delta V Crude Estimate = {delta_v_est:2.3f} m/s')"
   ]
  },
  {
   "cell_type": "markdown",
   "metadata": {},
   "source": [
    "A more accurate estimate can be obtained as described above"
   ]
  },
  {
   "cell_type": "code",
   "execution_count": 8,
   "metadata": {},
   "outputs": [
    {
     "name": "stdout",
     "output_type": "stream",
     "text": [
      "Delta V Accurate Estimate = 7.403 m/s\n"
     ]
    }
   ],
   "source": [
    "import numpy as np\n",
    "delta_v_accurate = -v_e*np.log(1-m_p/m_0)\n",
    "print(f'Delta V Accurate Estimate = {delta_v_accurate:2.3f} m/s')"
   ]
  },
  {
   "cell_type": "markdown",
   "metadata": {},
   "source": [
    "And checking the error:"
   ]
  },
  {
   "cell_type": "code",
   "execution_count": 10,
   "metadata": {},
   "outputs": [
    {
     "name": "stdout",
     "output_type": "stream",
     "text": [
      "Estimate Error : 0.94623 %\n"
     ]
    }
   ],
   "source": [
    "print(f'Estimate Error : {(delta_v_accurate - delta_v_est)/delta_v_est*100 :2.5f} %')"
   ]
  },
  {
   "cell_type": "markdown",
   "metadata": {},
   "source": [
    "Which is what we expected."
   ]
  }
 ],
 "metadata": {
  "kernelspec": {
   "display_name": "Python [conda env:anaconda3]",
   "language": "python",
   "name": "conda-env-anaconda3-py"
  },
  "language_info": {
   "codemirror_mode": {
    "name": "ipython",
    "version": 3
   },
   "file_extension": ".py",
   "mimetype": "text/x-python",
   "name": "python",
   "nbconvert_exporter": "python",
   "pygments_lexer": "ipython3",
   "version": "3.6.8"
  }
 },
 "nbformat": 4,
 "nbformat_minor": 2
}
