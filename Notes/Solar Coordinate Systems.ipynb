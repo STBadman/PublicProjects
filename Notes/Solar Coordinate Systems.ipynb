{
 "cells": [
  {
   "cell_type": "markdown",
   "id": "966a8b6c",
   "metadata": {},
   "source": [
    "## Notes on understanding solar/helio coordinate systems\n",
    "\n",
    "Key References :\n",
    "\n",
    "\n",
    "Solar Image Data Coordinate systems : [Thompson (2006)](https://ui.adsabs.harvard.edu/abs/2006A%26A...449..791T/abstract)\n",
    "\n",
    "[NASA Fits Page](http://adsabs.harvard.edu/abs/2015A%26A...574A..36R)\n",
    "\n",
    "\n",
    "__WCS Papers__ \n",
    "\n",
    "Representations of World Coordinates in FITS: [Greisen & Calabretta (2002)](http://adsabs.harvard.edu/abs/2002A%26A...395.1061G)\n",
    "\n",
    "Representations of celestial coordiantes in FITS: [Calabretta & Greisen (2002)](http://adsabs.harvard.edu/abs/2002A%26A...395.1077C)\n",
    "\n",
    "Representations of spectral coordiantes in FITS: [Greisen+ (2006)](http://adsabs.harvard.edu/abs/2006A%26A...446..747G)\n",
    "\n",
    "Representation of Time Coordiantes in FITS: [Rots+ (2015)](http://adsabs.harvard.edu/abs/2015A%26A...574A..36R)"
   ]
  },
  {
   "cell_type": "markdown",
   "id": "200c94f9",
   "metadata": {},
   "source": [
    "### Broad Distinctions\n",
    "\n",
    "##### Heliographic Coordinates (Thompson Section 2)\n",
    "\n",
    "* Coordinate systems which are _observer-independent_ , but are _time dependent_ with respect to inertial coordinate systems\n",
    "* Express coordinates in longitude, latitude and radius relative to a defined spherical coordinate system with its origin at the center of the Sun, and its pole oriented along the solar rotation axis.\n",
    "* The major frames are Stonyhurst and Carrington. Stonyhurst has longitude 0 tied to the Earth-Sun line and so rotates with respect to the stars with the Earth's angular velocity. Carrington-heliographic has its 0 longitude set to a fixed point relative to an approximate mean rotation rate for the Sun as defined by Carrington (1863)"
   ]
  },
  {
   "cell_type": "code",
   "execution_count": null,
   "id": "739b36d6",
   "metadata": {},
   "outputs": [],
   "source": []
  }
 ],
 "metadata": {
  "kernelspec": {
   "display_name": "Python 3",
   "language": "python",
   "name": "python3"
  },
  "language_info": {
   "codemirror_mode": {
    "name": "ipython",
    "version": 3
   },
   "file_extension": ".py",
   "mimetype": "text/x-python",
   "name": "python",
   "nbconvert_exporter": "python",
   "pygments_lexer": "ipython3",
   "version": "3.8.8"
  }
 },
 "nbformat": 4,
 "nbformat_minor": 5
}
