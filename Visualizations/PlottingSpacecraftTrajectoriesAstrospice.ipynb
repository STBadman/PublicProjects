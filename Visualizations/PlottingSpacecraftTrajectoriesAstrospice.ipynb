{
 "cells": [
  {
   "cell_type": "markdown",
   "id": "8a5be6c2",
   "metadata": {},
   "source": [
    "This notebook describes a quick way to plot spacecraft trajectories in a flexible way with respect to timestamps and coordinate frames and uses the astrospice ([github](https://github.com/astrospice/astrospice), [readthedocs](https://astrospice.readthedocs.io/en/latest/)) python library and follows the astrospice [guided walkthrough](https://astrospice.readthedocs.io/en/latest/guide.html). Astrospice is currently actively supported.\n",
    "\n",
    "Sam Badman (May 23, 2022)"
   ]
  },
  {
   "cell_type": "code",
   "execution_count": 3,
   "id": "849f4a55",
   "metadata": {},
   "outputs": [],
   "source": [
    "# install astrospice if needed (uncomment if needed)\n",
    "# !pip install astrospice"
   ]
  },
  {
   "cell_type": "code",
   "execution_count": 20,
   "id": "85bbe197",
   "metadata": {},
   "outputs": [],
   "source": [
    "# import astrospice, matplotlib for plotting, \n",
    "# datetime for time handling\n",
    "import astrospice\n",
    "import matplotlib.pyplot as plt\n",
    "import datetime"
   ]
  },
  {
   "cell_type": "code",
   "execution_count": 12,
   "id": "3b3da40d",
   "metadata": {},
   "outputs": [
    {
     "data": {
      "application/vnd.jupyter.widget-view+json": {
       "model_id": "62aa6fc0621c45c09de1717e7d19e1cb",
       "version_major": 2,
       "version_minor": 0
      },
      "text/plain": [
       "Files Downloaded:   0%|          | 0/19 [00:00<?, ?file/s]"
      ]
     },
     "metadata": {},
     "output_type": "display_data"
    }
   ],
   "source": [
    "# example : load Parker Solar Probe \n",
    "# Note this cell takes a while first time to do the download\n",
    "\n",
    "# First argument is name of spacecraft. \n",
    "# Use print(astrospice.registry) to see the possible entries\n",
    "# Second is \"recon\" (reconstructed ephemeris) \n",
    "# or \"predict\" (predicted ephemeris, if you need the predicted trajectory)\n",
    "\n",
    "kernels = astrospice.registry.get_kernels('psp','recon') "
   ]
  },
  {
   "cell_type": "code",
   "execution_count": 21,
   "id": "d45240ae",
   "metadata": {},
   "outputs": [],
   "source": [
    "# Generate list of timestamps (1 per day from \n",
    "# 2018,10,1 -> 2018,11,30)\n",
    "timestamps = [datetime.datetime(2018,10,1)+datetime.timedelta(days=d)\n",
    "              for d in range(60)\n",
    "             ] "
   ]
  },
  {
   "cell_type": "code",
   "execution_count": 22,
   "id": "c6057dac",
   "metadata": {},
   "outputs": [],
   "source": [
    "# Generate coordinates (output is astropy.coordinates.SkyCoord)\n",
    "psp_coords = astrospice.generate_coords('SOLAR PROBE PLUS',timestamps)"
   ]
  },
  {
   "cell_type": "code",
   "execution_count": 34,
   "id": "3f67fb60",
   "metadata": {},
   "outputs": [
    {
     "data": {
      "text/plain": [
       "Text(0, 0.5, 'icrs-Y (R$_\\\\odot$)')"
      ]
     },
     "execution_count": 34,
     "metadata": {},
     "output_type": "execute_result"
    },
    {
     "data": {
      "image/png": "[encoded data removed]",
      "text/plain": [
       "<Figure size 360x360 with 1 Axes>"
      ]
     },
     "metadata": {
      "needs_background": "light"
     },
     "output_type": "display_data"
    }
   ],
   "source": [
    "# Plot the coordinates (default output is inertial frame) :\n",
    "fig,ax=plt.subplots(figsize=(5,5))\n",
    "ax.plot(psp_coords.x.to(\"R_sun\"),psp_coords.y.to(\"R_sun\"))\n",
    "ax.grid()\n",
    "\n",
    "# Set crosshair at the sun's location\n",
    "ax.axhline(0,color='black',linewidth=1.5)\n",
    "ax.axvline(0,color='black',linewidth=1.5)\n",
    "\n",
    "# Label axes\n",
    "ax.set_xlabel(f\"{psp_coords.frame.name}-X (R$_\\odot$)\")\n",
    "ax.set_ylabel(f\"{psp_coords.frame.name}-Y (R$_\\odot$)\")"
   ]
  },
  {
   "cell_type": "code",
   "execution_count": 30,
   "id": "08b03f15",
   "metadata": {},
   "outputs": [],
   "source": [
    "# Convert coordinates to another frame : Heliographic Carrington \n",
    "# This is the coordinate frame that co-rotates with the Sun.\n",
    "# This requires the sunpy library, un-comment next line to install\n",
    "# !pip install sunpy"
   ]
  },
  {
   "cell_type": "code",
   "execution_count": 33,
   "id": "964575bd",
   "metadata": {},
   "outputs": [],
   "source": [
    "from sunpy.coordinates import HeliographicCarrington\n",
    "psp_coords_helio = psp_coords.transform_to(\n",
    "    HeliographicCarrington(observer=\"self\"))"
   ]
  },
  {
   "cell_type": "code",
   "execution_count": null,
   "id": "c97ec7ed",
   "metadata": {},
   "outputs": [],
   "source": [
    "# Plot the heliographic coordinates:\n",
    "fig,ax=plt.subplots(figsize=(5,5))\n",
    "ax.plot(psp_coords.x.to(\"R_sun\"),psp_coords.y.to(\"R_sun\"))\n",
    "ax.grid()\n",
    "\n",
    "# Set crosshair at the sun's location\n",
    "ax.axhline(0,color='black',linewidth=1.5)\n",
    "ax.axvline(0,color='black',linewidth=1.5)\n",
    "\n",
    "# Label axes\n",
    "ax.set_xlabel(f\"{psp_coords.frame.name}-X (R$_\\odot$)\")\n",
    "ax.set_ylabel(f\"{psp_coords.frame.name}-Y (R$_\\odot$)\")"
   ]
  }
 ],
 "metadata": {
  "kernelspec": {
   "display_name": "Python 3",
   "language": "python",
   "name": "python3"
  },
  "language_info": {
   "codemirror_mode": {
    "name": "ipython",
    "version": 3
   },
   "file_extension": ".py",
   "mimetype": "text/x-python",
   "name": "python",
   "nbconvert_exporter": "python",
   "pygments_lexer": "ipython3",
   "version": "3.8.8"
  }
 },
 "nbformat": 4,
 "nbformat_minor": 5
}
