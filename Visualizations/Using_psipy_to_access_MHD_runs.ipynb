{
 "cells": [
  {
   "cell_type": "code",
   "execution_count": 1,
   "id": "a563d3ec",
   "metadata": {},
   "outputs": [
    {
     "ename": "ModuleNotFoundError",
     "evalue": "No module named 'psipy'",
     "output_type": "error",
     "traceback": [
      "\u001b[0;31m---------------------------------------------------------------------------\u001b[0m",
      "\u001b[0;31mModuleNotFoundError\u001b[0m                       Traceback (most recent call last)",
      "\u001b[0;32m<ipython-input-1-d63ec9752ef2>\u001b[0m in \u001b[0;36m<module>\u001b[0;34m\u001b[0m\n\u001b[0;32m----> 1\u001b[0;31m \u001b[0;32mfrom\u001b[0m \u001b[0mpsipy\u001b[0m\u001b[0;34m.\u001b[0m\u001b[0mmodel\u001b[0m \u001b[0;32mimport\u001b[0m \u001b[0mMASOutput\u001b[0m\u001b[0;34m\u001b[0m\u001b[0;34m\u001b[0m\u001b[0m\n\u001b[0m\u001b[1;32m      2\u001b[0m \u001b[0;32mfrom\u001b[0m \u001b[0mpsipy\u001b[0m\u001b[0;34m.\u001b[0m\u001b[0mdata\u001b[0m \u001b[0;32mimport\u001b[0m \u001b[0msample_data\u001b[0m\u001b[0;34m\u001b[0m\u001b[0;34m\u001b[0m\u001b[0m\n\u001b[1;32m      3\u001b[0m \u001b[0;32mimport\u001b[0m \u001b[0mmatplotlib\u001b[0m\u001b[0;34m.\u001b[0m\u001b[0mpyplot\u001b[0m \u001b[0;32mas\u001b[0m \u001b[0mplt\u001b[0m\u001b[0;34m\u001b[0m\u001b[0;34m\u001b[0m\u001b[0m\n\u001b[1;32m      4\u001b[0m \u001b[0;32mimport\u001b[0m \u001b[0mos\u001b[0m\u001b[0;34m,\u001b[0m\u001b[0mnumpy\u001b[0m \u001b[0;32mas\u001b[0m \u001b[0mnp\u001b[0m\u001b[0;34m\u001b[0m\u001b[0;34m\u001b[0m\u001b[0m\n\u001b[1;32m      5\u001b[0m \u001b[0;32mfrom\u001b[0m \u001b[0mparfive\u001b[0m \u001b[0;32mimport\u001b[0m \u001b[0mDownloader\u001b[0m\u001b[0;34m\u001b[0m\u001b[0;34m\u001b[0m\u001b[0m\n",
      "\u001b[0;31mModuleNotFoundError\u001b[0m: No module named 'psipy'"
     ]
    }
   ],
   "source": [
    "from psipy.model import MASOutput\n",
    "from psipy.data import sample_data\n",
    "import matplotlib.pyplot as plt\n",
    "import os,numpy as np\n",
    "from parfive import Downloader\n",
    "from scipy.interpolate import interp2d,RegularGridInterpolator as rgi\n",
    "dl = Downloader()\n",
    "\n",
    "CRN = 2259\n",
    "\n",
    "def get_cr_url(CRN):\n",
    "    if CRN < 2241 :  \n",
    "        return f\"https://www.predsci.com/data/runs/cr{CRN}-medium\"\n",
    "    else : \n",
    "        return f'https://www.predsci.com/data/runs/cr{CRN}-high'\n",
    "\n",
    "local_dir = f'/media/sam/6165-6433/MAS_Models/{CRN}'\n",
    "if not os.path.isdir(local_dir) : \n",
    "    os.mkdir(local_dir)\n",
    "    os.mkdir(local_dir+'/corona')\n",
    "    os.mkdir(local_dir+'/helio')\n",
    "local_path = local_dir+'/{vartype}/{var}002.hdf'\n",
    "heliopath = f'{get_cr_url(CRN)}/hmi_masp_mas_std_0201/helio/''{var}002.hdf'\n",
    "coronapath = f'{get_cr_url(CRN)}/hmi_masp_mas_std_0201/corona/''{var}002.hdf'\n",
    "\n",
    "for var in ['rho', 'vr', 'br',\n",
    "            'bt','bp','vt','vp',\n",
    "            'p','jr','jt','jp','t','cs','va'\n",
    "           ]:\n",
    "#     dl.enqueue_file(coronapath.format(var=var), \n",
    "#                     path=local_path.format(var=var)\n",
    "#                    )\n",
    "    if not os.path.exists(local_path.format(vartype='corona',var=var)) :\n",
    "        wget_cmd = (f\"wget -O {local_path.format(vartype='corona',var=var)} \" +\n",
    "                   f\"{coronapath.format(var=var)}\" +\n",
    "                    \" --no-check-certificate\"\n",
    "        )\n",
    "        print(wget_cmd)\n",
    "        os.system(wget_cmd)\n",
    "    if not os.path.exists(local_path.format(vartype='helio',var=var)) :\n",
    "        wget_cmd = (f\"wget -O {local_path.format(vartype='helio',var=var)} \" +\n",
    "                   f\"{heliopath.format(var=var)}\" +\n",
    "                    \" --no-check-certificate\"\n",
    "        )\n",
    "        print(wget_cmd)\n",
    "        os.system(wget_cmd)\n"
   ]
  },
  {
   "cell_type": "code",
   "execution_count": 2,
   "id": "5beddacc",
   "metadata": {},
   "outputs": [
    {
     "ename": "NameError",
     "evalue": "name 'MASOutput' is not defined",
     "output_type": "error",
     "traceback": [
      "\u001b[0;31m---------------------------------------------------------------------------\u001b[0m",
      "\u001b[0;31mNameError\u001b[0m                                 Traceback (most recent call last)",
      "\u001b[0;32m<ipython-input-2-861775928223>\u001b[0m in \u001b[0;36m<module>\u001b[0;34m\u001b[0m\n\u001b[0;32m----> 1\u001b[0;31m corona_model = MASOutput(local_path.format(vartype='corona',\n\u001b[0m\u001b[1;32m      2\u001b[0m                                       var='')[:-7]\n\u001b[1;32m      3\u001b[0m                    );cbr= corona_model['br']\n\u001b[1;32m      4\u001b[0m helio_model =  MASOutput(local_path.format(vartype='helio',\n\u001b[1;32m      5\u001b[0m                                       var='')[:-7]\n",
      "\u001b[0;31mNameError\u001b[0m: name 'MASOutput' is not defined"
     ]
    }
   ],
   "source": [
    "corona_model = MASOutput(local_path.format(vartype='corona',\n",
    "                                      var='')[:-7]\n",
    "                   );cbr= corona_model['br']\n",
    "helio_model =  MASOutput(local_path.format(vartype='helio',\n",
    "                                      var='')[:-7]\n",
    "                   )"
   ]
  },
  {
   "cell_type": "code",
   "execution_count": 3,
   "id": "2d1ef1c0",
   "metadata": {},
   "outputs": [
    {
     "ename": "NameError",
     "evalue": "name 'cbr' is not defined",
     "output_type": "error",
     "traceback": [
      "\u001b[0;31m---------------------------------------------------------------------------\u001b[0m",
      "\u001b[0;31mNameError\u001b[0m                                 Traceback (most recent call last)",
      "\u001b[0;32m<ipython-input-3-1ba1391e86b5>\u001b[0m in \u001b[0;36m<module>\u001b[0;34m\u001b[0m\n\u001b[1;32m     50\u001b[0m \u001b[0;32mfrom\u001b[0m \u001b[0mipywidgets\u001b[0m \u001b[0;32mimport\u001b[0m \u001b[0minteract\u001b[0m\u001b[0;34m\u001b[0m\u001b[0;34m\u001b[0m\u001b[0m\n\u001b[1;32m     51\u001b[0m interact(do_lon_slice,\n\u001b[0;32m---> 52\u001b[0;31m          \u001b[0midx\u001b[0m\u001b[0;34m=\u001b[0m\u001b[0;34m(\u001b[0m\u001b[0;36m0\u001b[0m\u001b[0;34m,\u001b[0m\u001b[0mlen\u001b[0m\u001b[0;34m(\u001b[0m\u001b[0mcbr\u001b[0m\u001b[0;34m.\u001b[0m\u001b[0mphi_coords\u001b[0m\u001b[0;34m)\u001b[0m\u001b[0;34m,\u001b[0m\u001b[0;36m10\u001b[0m\u001b[0;34m)\u001b[0m\u001b[0;34m,\u001b[0m\u001b[0;34m\u001b[0m\u001b[0;34m\u001b[0m\u001b[0m\n\u001b[0m\u001b[1;32m     53\u001b[0m          \u001b[0mrmax\u001b[0m\u001b[0;34m=\u001b[0m\u001b[0;34m(\u001b[0m\u001b[0;36m2\u001b[0m\u001b[0;34m,\u001b[0m\u001b[0;36m30\u001b[0m\u001b[0;34m,\u001b[0m\u001b[0;36m2\u001b[0m\u001b[0;34m)\u001b[0m\u001b[0;34m,\u001b[0m\u001b[0;34m\u001b[0m\u001b[0;34m\u001b[0m\u001b[0m\n\u001b[1;32m     54\u001b[0m          \u001b[0mrasterth\u001b[0m\u001b[0;34m=\u001b[0m\u001b[0;34m(\u001b[0m\u001b[0;36m1\u001b[0m\u001b[0;34m,\u001b[0m\u001b[0;36m20\u001b[0m\u001b[0;34m,\u001b[0m\u001b[0;36m2\u001b[0m\u001b[0;34m)\u001b[0m\u001b[0;34m,\u001b[0m\u001b[0;34m\u001b[0m\u001b[0;34m\u001b[0m\u001b[0m\n",
      "\u001b[0;31mNameError\u001b[0m: name 'cbr' is not defined"
     ]
    }
   ],
   "source": [
    "def do_lon_slice(idx = 0,rmax=30,rasterth = 4, rasterr=8) :\n",
    "    cbr= corona_model['br']\n",
    "    cbn = corona_model['bp']\n",
    "\n",
    "    cbr_lonslice = cbr.data[idx,:,:,0]\n",
    "    cbn_lonslice = cbn.data[idx,:,:,0]\n",
    "\n",
    "    ## Interpolate to same coords \n",
    "    cbn_interpolated = interp2d(cbn.r_coords,\n",
    "                                cbn.theta_coords,\n",
    "                                cbn_lonslice)(cbr.r_coords,cbr.theta_coords)\n",
    "\n",
    "    rmesh,thmesh = np.meshgrid(cbr.r_coords,cbr.theta_coords)\n",
    "\n",
    "    cbx = np.array(cbr_lonslice)*np.cos(thmesh) - cbn_interpolated*np.sin(thmesh)\n",
    "    cby = np.array(cbr_lonslice)*np.sin(thmesh) + cbn_interpolated*np.cos(thmesh)\n",
    "\n",
    "    fig=plt.figure(figsize=(10,10))\n",
    "    ax=fig.add_subplot(projection='polar')\n",
    "    ax.contourf(\n",
    "        cbr.theta_coords,\n",
    "        cbr.r_coords,\n",
    "        np.log(np.sqrt(cbr_lonslice**2 + \n",
    "                cbn_interpolated**2)).T,\n",
    "        cmap='Greys'\n",
    "        )\n",
    "    ax.set_thetalim(-np.pi/2,np.pi/2)\n",
    "\n",
    "    ax.quiver(\n",
    "        thmesh[::rasterth,::rasterr],\n",
    "        rmesh[::rasterth,::rasterr],\n",
    "        cbx[::rasterth,::rasterr]*rmesh[::rasterth,::rasterr]**2,\n",
    "        cby[::rasterth,::rasterr]*rmesh[::rasterth,::rasterr]**2,\n",
    "        np.sign(cbr_lonslice)[::rasterth,::rasterr],\n",
    "        cmap=\"bwr\",\n",
    "        units=\"dots\",\n",
    "        color=\"white\",\n",
    "        scale=1/20,\n",
    "        pivot=\"middle\",\n",
    "    )\n",
    "    ax.set_rlim(0,rmax)\n",
    "#     ax.plot(np.radians(psp.lat),psp.radius.to(\"R_sun\"),color=\"black\")\n",
    "    #plt.figure()\n",
    "    # plt.pcolormesh(\n",
    "    #     hbr.r_coords,\n",
    "    #     hbr.theta_coords,\n",
    "    #     hbr.data[0,:,:,0],cmap=\"bwr\"\n",
    "    #     )\n",
    "    \n",
    "from ipywidgets import interact\n",
    "interact(do_lon_slice,\n",
    "         idx=(0,len(cbr.phi_coords),10),\n",
    "         rmax=(2,30,2),\n",
    "         rasterth=(1,20,2),\n",
    "         rasterr=(1,20,2)\n",
    "        )"
   ]
  },
  {
   "cell_type": "code",
   "execution_count": 4,
   "id": "14ee6e37",
   "metadata": {},
   "outputs": [
    {
     "ename": "NameError",
     "evalue": "name 'corona_model' is not defined",
     "output_type": "error",
     "traceback": [
      "\u001b[0;31m---------------------------------------------------------------------------\u001b[0m",
      "\u001b[0;31mNameError\u001b[0m                                 Traceback (most recent call last)",
      "\u001b[0;32m<ipython-input-4-35ea292ebac4>\u001b[0m in \u001b[0;36m<module>\u001b[0;34m\u001b[0m\n\u001b[1;32m      1\u001b[0m \u001b[0midx\u001b[0m\u001b[0;34m=\u001b[0m\u001b[0;36m0\u001b[0m\u001b[0;34m\u001b[0m\u001b[0;34m\u001b[0m\u001b[0m\n\u001b[1;32m      2\u001b[0m \u001b[0;34m\u001b[0m\u001b[0m\n\u001b[0;32m----> 3\u001b[0;31m \u001b[0mcn\u001b[0m \u001b[0;34m=\u001b[0m \u001b[0mcorona_model\u001b[0m\u001b[0;34m[\u001b[0m\u001b[0;34m'rho'\u001b[0m\u001b[0;34m]\u001b[0m\u001b[0;34m\u001b[0m\u001b[0;34m\u001b[0m\u001b[0m\n\u001b[0m\u001b[1;32m      4\u001b[0m \u001b[0;34m\u001b[0m\u001b[0m\n\u001b[1;32m      5\u001b[0m \u001b[0mcbr\u001b[0m\u001b[0;34m=\u001b[0m \u001b[0mcorona_model\u001b[0m\u001b[0;34m[\u001b[0m\u001b[0;34m'br'\u001b[0m\u001b[0;34m]\u001b[0m\u001b[0;34m\u001b[0m\u001b[0;34m\u001b[0m\u001b[0m\n",
      "\u001b[0;31mNameError\u001b[0m: name 'corona_model' is not defined"
     ]
    }
   ],
   "source": [
    "idx=0\n",
    "\n",
    "cn = corona_model['rho']\n",
    "\n",
    "cbr= corona_model['br']\n",
    "cbt = corona_model['bp']\n",
    "cbn = corona_model['bt']\n",
    "\n",
    "cvr= corona_model['vr']\n",
    "cvt = corona_model['vp']\n",
    "cvn = corona_model['vt']\n",
    "\n",
    "cn_lonslice = cn.data[idx,:,:,0] \n",
    "\n",
    "cbr_lonslice = cbr.data[idx,:,:,0]\n",
    "cbt_lonslice = cbt.data[idx,:,:,0]\n",
    "cbn_lonslice = cbn.data[idx,:,:,0]\n",
    "\n",
    "cvr_lonslice = cvr.data[idx,:,:,0]\n",
    "cvt_lonslice = cvt.data[idx,:,:,0]\n",
    "cvn_lonslice = cvn.data[idx,:,:,0]\n",
    "\n",
    "## Interpolate to same coords \n",
    "cbt_interpolated = interp2d(cbt.r_coords,\n",
    "                            cbt.theta_coords,\n",
    "                            cbt_lonslice)(cbr.r_coords,cbr.theta_coords)\n",
    "cbn_interpolated = interp2d(cbn.r_coords,\n",
    "                            cbn.theta_coords,\n",
    "                            cbn_lonslice)(cbr.r_coords,cbr.theta_coords)\n",
    "\n",
    "cb=np.sqrt(cbr_lonslice**2 + \n",
    "           cbt_interpolated**2 +\n",
    "           cbn_interpolated**2)"
   ]
  },
  {
   "cell_type": "code",
   "execution_count": 5,
   "id": "471ce088",
   "metadata": {},
   "outputs": [
    {
     "ename": "NameError",
     "evalue": "name 'plt' is not defined",
     "output_type": "error",
     "traceback": [
      "\u001b[0;31m---------------------------------------------------------------------------\u001b[0m",
      "\u001b[0;31mNameError\u001b[0m                                 Traceback (most recent call last)",
      "\u001b[0;32m<ipython-input-5-c4e065a5879f>\u001b[0m in \u001b[0;36m<module>\u001b[0;34m\u001b[0m\n\u001b[0;32m----> 1\u001b[0;31m \u001b[0mfig\u001b[0m\u001b[0;34m=\u001b[0m\u001b[0mplt\u001b[0m\u001b[0;34m.\u001b[0m\u001b[0mfigure\u001b[0m\u001b[0;34m(\u001b[0m\u001b[0mfigsize\u001b[0m\u001b[0;34m=\u001b[0m\u001b[0;34m(\u001b[0m\u001b[0;36m10\u001b[0m\u001b[0;34m,\u001b[0m\u001b[0;36m10\u001b[0m\u001b[0;34m)\u001b[0m\u001b[0;34m)\u001b[0m\u001b[0;34m\u001b[0m\u001b[0;34m\u001b[0m\u001b[0m\n\u001b[0m\u001b[1;32m      2\u001b[0m \u001b[0max\u001b[0m\u001b[0;34m=\u001b[0m\u001b[0mfig\u001b[0m\u001b[0;34m.\u001b[0m\u001b[0madd_subplot\u001b[0m\u001b[0;34m(\u001b[0m\u001b[0mprojection\u001b[0m\u001b[0;34m=\u001b[0m\u001b[0;34m'polar'\u001b[0m\u001b[0;34m)\u001b[0m\u001b[0;34m\u001b[0m\u001b[0;34m\u001b[0m\u001b[0m\n\u001b[1;32m      3\u001b[0m \u001b[0mrmesh\u001b[0m\u001b[0;34m,\u001b[0m\u001b[0mthmesh\u001b[0m \u001b[0;34m=\u001b[0m \u001b[0mnp\u001b[0m\u001b[0;34m.\u001b[0m\u001b[0mmeshgrid\u001b[0m\u001b[0;34m(\u001b[0m\u001b[0mcbr\u001b[0m\u001b[0;34m.\u001b[0m\u001b[0mr_coords\u001b[0m\u001b[0;34m,\u001b[0m\u001b[0mcbr\u001b[0m\u001b[0;34m.\u001b[0m\u001b[0mtheta_coords\u001b[0m\u001b[0;34m)\u001b[0m\u001b[0;34m\u001b[0m\u001b[0;34m\u001b[0m\u001b[0m\n\u001b[1;32m      4\u001b[0m ax.pcolormesh(\n\u001b[1;32m      5\u001b[0m                \u001b[0mcbr\u001b[0m\u001b[0;34m.\u001b[0m\u001b[0mtheta_coords\u001b[0m\u001b[0;34m,\u001b[0m\u001b[0;34m\u001b[0m\u001b[0;34m\u001b[0m\u001b[0m\n",
      "\u001b[0;31mNameError\u001b[0m: name 'plt' is not defined"
     ]
    }
   ],
   "source": [
    "fig=plt.figure(figsize=(10,10))\n",
    "ax=fig.add_subplot(projection='polar')\n",
    "rmesh,thmesh = np.meshgrid(cbr.r_coords,cbr.theta_coords)\n",
    "ax.pcolormesh(\n",
    "               cbr.theta_coords,\n",
    "               cbr.r_coords,\n",
    "               cbr_lonslice.T*rmesh.T**2,\n",
    "               cmap=\"bwr\",\n",
    "              vmin = -6,vmax=6\n",
    ")\n",
    "ax.contour(\n",
    "               cvr.theta_coords,\n",
    "               cvr.r_coords,\n",
    "               cvr_lonslice.T,\n",
    ")\n",
    "\n",
    "ax.set_thetalim(np.radians(-90),np.radians(90))\n",
    "ax.grid()"
   ]
  },
  {
   "cell_type": "code",
   "execution_count": null,
   "id": "05a8282d",
   "metadata": {},
   "outputs": [],
   "source": []
  }
 ],
 "metadata": {
  "kernelspec": {
   "display_name": "Python 3",
   "language": "python",
   "name": "python3"
  },
  "language_info": {
   "codemirror_mode": {
    "name": "ipython",
    "version": 3
   },
   "file_extension": ".py",
   "mimetype": "text/x-python",
   "name": "python",
   "nbconvert_exporter": "python",
   "pygments_lexer": "ipython3",
   "version": "3.8.8"
  }
 },
 "nbformat": 4,
 "nbformat_minor": 5
}
